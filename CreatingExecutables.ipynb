{
 "cells": [
  {
   "cell_type": "markdown",
   "metadata": {},
   "source": [
    "# Creating Executable Files in Bash"
   ]
  },
  {
   "cell_type": "markdown",
   "metadata": {},
   "source": [
    "Often times you'll want to take code you use use repeatedly and bundle them up into functions. Reducing the number of times is\n",
    "always a good practice when it comes to code. It saves time and reduces chance of mistakes."
   ]
  },
  {
   "cell_type": "markdown",
   "metadata": {},
   "source": [
    "Two of the most common methods are functions and aliases. These are often put into one's ~/.bashrc file and are directly in the current shell environment. However sometimes with complicated functions, you might prefer having them as their own commands similar to $\\texttt{ls}$ in the $\\texttt{\\bin}$ directories. These are shell scripts that are designed to be executables, mini-programs. One of the nuances of these shell scripts however is allowing them to make changes to your current shell environment, as when they are called, they open a new \"subshell\" before returning to the original shell where the executable was initially called upon completion. "
   ]
  },
  {
   "cell_type": "markdown",
   "metadata": {},
   "source": [
    "## Subshells"
   ]
  },
  {
   "cell_type": "markdown",
   "metadata": {},
   "source": [
    "Say we often get stuck within  $\\texttt{cd}$ into a really long file path. In this case, our example filepath can be $\\texttt{/home/thsiao3/notebooks}$, the home directory for my Jupyter notebooks. Below is a shell script, $\\texttt{jump}$ that takes one argument which is a directory in the chain of directories above my current one that it will cd into. "
   ]
  },
  {
   "cell_type": "code",
   "execution_count": 8,
   "metadata": {},
   "outputs": [
    {
     "name": "stdout",
     "output_type": "stream",
     "text": [
      "/usr/local/bin/jump\n"
     ]
    }
   ],
   "source": [
    "which jump"
   ]
  },
  {
   "cell_type": "code",
   "execution_count": 9,
   "metadata": {},
   "outputs": [
    {
     "name": "stdout",
     "output_type": "stream",
     "text": [
      "#! /bin/bash\n",
      "\n",
      "# original value of Internal Field Separator \n",
      "OLDIFS=$IFS \n",
      "  \n",
      "# setting field separator to \"/\"  \n",
      "IFS=/ \n",
      "  \n",
      "# converting working path into array of directories in path \n",
      "# eg. /my/path/is/like/this \n",
      "# into [, my, path, is, like, this] \n",
      "path_arr=($PWD)\n",
      "  \n",
      "# setting IFS to original value \n",
      "IFS=$OLDIFS \n",
      "  \n",
      "pos=-1 \n",
      "  \n",
      "# ${path_arr[@]} gives all the values in path_arr \n",
      "for dir in \"${path_arr[@]}\"\n",
      "do\n",
      "    # find the number of directories to move up to \n",
      "    # reach at target directory  \n",
      "    pos=$[$pos+1] \n",
      "    if [ \"$1\" = \"$dir\" ];then\n",
      "  \n",
      "        # length of the path_arr \n",
      "        dir_in_path=${#path_arr[@]} \n",
      "  \n",
      "        #current working directory \n",
      "        cwd=$PWD \n",
      "        limit=$[$dir_in_path-$pos-1]\n",
      "        for ((i=0; i<limit; i++)) \n",
      "        do\n",
      "            echo $i\n",
      "\t    cd .. \n",
      " \t    echo $PWD\n",
      "\tdone\n",
      "        break\n",
      "    fi\n",
      "done\n"
     ]
    }
   ],
   "source": [
    "cat jump"
   ]
  },
  {
   "cell_type": "markdown",
   "metadata": {},
   "source": [
    "Let's try using jump to cd into the /home directory, two directories above my current one. "
   ]
  },
  {
   "cell_type": "code",
   "execution_count": 12,
   "metadata": {},
   "outputs": [
    {
     "name": "stdout",
     "output_type": "stream",
     "text": [
      "/home/thsiao3/notebooks\n"
     ]
    }
   ],
   "source": [
    "pwd"
   ]
  },
  {
   "cell_type": "code",
   "execution_count": 13,
   "metadata": {},
   "outputs": [
    {
     "name": "stdout",
     "output_type": "stream",
     "text": [
      "0\n",
      "/home/thsiao3\n",
      "1\n",
      "/home\n"
     ]
    }
   ],
   "source": [
    "jump home"
   ]
  },
  {
   "cell_type": "code",
   "execution_count": 14,
   "metadata": {},
   "outputs": [
    {
     "name": "stdout",
     "output_type": "stream",
     "text": [
      "/home/thsiao3/notebooks\n"
     ]
    }
   ],
   "source": [
    "pwd"
   ]
  },
  {
   "cell_type": "markdown",
   "metadata": {},
   "source": [
    "So when I try to $\\texttt{cd}$ from a shell script that I set to be executable in my $\\texttt{PATH}$ in $\\texttt{/usr/local/bin}$, I can see\n",
    "from print statements that the correct directory is being changed. However, in my original session, my current working directory\n",
    "is left unchanged. \n",
    "\n",
    "This is because when I just run an executable shell script (indicated by the shebang on the first line invoking $\\texttt{#! /bin/bash}$), that script is run in another subshell. So the directory is being changed in that subshell, but once the script finishes running, it just returns to the original "
   ]
  },
  {
   "cell_type": "markdown",
   "metadata": {},
   "source": [
    "## The $\\texttt{source}$ command"
   ]
  },
  {
   "cell_type": "markdown",
   "metadata": {},
   "source": [
    "The source command takes one argument, a file which in our case is our executable shell script. Source will read and execute commands\n",
    "in this file in the $\\textbf{current}$ shell environment, rather than run it in a new subshell as is default behavior."
   ]
  },
  {
   "cell_type": "code",
   "execution_count": 17,
   "metadata": {},
   "outputs": [
    {
     "name": "stdout",
     "output_type": "stream",
     "text": [
      "/home/thsiao3/notebooks\n"
     ]
    }
   ],
   "source": [
    "pwd"
   ]
  },
  {
   "cell_type": "code",
   "execution_count": 18,
   "metadata": {},
   "outputs": [
    {
     "name": "stdout",
     "output_type": "stream",
     "text": [
      "0\n",
      "/home/thsiao3\n",
      "1\n",
      "/home\n"
     ]
    }
   ],
   "source": [
    "source jump home"
   ]
  },
  {
   "cell_type": "code",
   "execution_count": 19,
   "metadata": {},
   "outputs": [
    {
     "name": "stdout",
     "output_type": "stream",
     "text": [
      "/home\n"
     ]
    }
   ],
   "source": [
    "pwd"
   ]
  },
  {
   "cell_type": "markdown",
   "metadata": {},
   "source": [
    "Another way to use source is the '.', they are equivalent. "
   ]
  },
  {
   "cell_type": "code",
   "execution_count": 25,
   "metadata": {},
   "outputs": [
    {
     "name": "stdout",
     "output_type": "stream",
     "text": [
      "/home/thsiao3/notebooks\n"
     ]
    }
   ],
   "source": [
    "cd /home/thsiao3/notebooks\n",
    "pwd"
   ]
  },
  {
   "cell_type": "code",
   "execution_count": 26,
   "metadata": {},
   "outputs": [
    {
     "name": "stdout",
     "output_type": "stream",
     "text": [
      "0\n",
      "/home/thsiao3\n",
      "1\n",
      "/home\n"
     ]
    }
   ],
   "source": [
    ". jump home"
   ]
  },
  {
   "cell_type": "code",
   "execution_count": 27,
   "metadata": {},
   "outputs": [
    {
     "name": "stdout",
     "output_type": "stream",
     "text": [
      "/home\n"
     ]
    }
   ],
   "source": [
    "pwd"
   ]
  },
  {
   "cell_type": "markdown",
   "metadata": {},
   "source": [
    "Sometimes however, it may just be the case that a function in your .bash_profile or .bash_rc is the easiest thing to do. In that\n",
    "scenario, you do not need to worry about different shells being used to run commands, since functions are run in the \n",
    "current shell they are called form."
   ]
  }
 ],
 "metadata": {
  "kernelspec": {
   "display_name": "Bash",
   "language": "bash",
   "name": "bash"
  },
  "language_info": {
   "codemirror_mode": "shell",
   "file_extension": ".sh",
   "mimetype": "text/x-sh",
   "name": "bash"
  }
 },
 "nbformat": 4,
 "nbformat_minor": 4
}
