{
  "nbformat": 4,
  "nbformat_minor": 0,
  "metadata": {
    "colab": {
      "name": "CS584-hw5.ipynb",
      "provenance": [],
      "collapsed_sections": [],
      "machine_shape": "hm",
      "include_colab_link": true
    },
    "kernelspec": {
      "name": "python3",
      "display_name": "Python 3"
    }
  },
  "cells": [
    {
      "cell_type": "markdown",
      "metadata": {
        "id": "view-in-github",
        "colab_type": "text"
      },
      "source": [
        "<a href=\"https://colab.research.google.com/github/tXiao95/py_experiments/blob/master/XavierInitialization.ipynb\" target=\"_parent\"><img src=\"https://colab.research.google.com/assets/colab-badge.svg\" alt=\"Open In Colab\"/></a>"
      ]
    },
    {
      "cell_type": "markdown",
      "metadata": {
        "id": "SHFvGkv07LzS",
        "colab_type": "text"
      },
      "source": [
        "# CS 584: Glorot and Bengio: Impact of initializiation\n"
      ]
    },
    {
      "cell_type": "code",
      "metadata": {
        "id": "q4C2Pc2UCVJb",
        "colab_type": "code",
        "colab": {
          "base_uri": "https://localhost:8080/",
          "height": 125
        },
        "outputId": "139eb368-cf82-489d-b5c4-a02147876e9b"
      },
      "source": [
        "from google.colab import drive\n",
        "# To Lars: Had to change this filepath from /content/gdrive to /content/drive\n",
        "drive.mount('/content/drive', force_remount=True)\n",
        "import sys, os\n",
        "sys.path.append('/content/drive/My Drive/CS584/Project5')"
      ],
      "execution_count": 1,
      "outputs": [
        {
          "output_type": "stream",
          "text": [
            "Go to this URL in a browser: https://accounts.google.com/o/oauth2/auth?client_id=947318989803-6bn6qk8qdgf4n4g3pfee6491hc0brc4i.apps.googleusercontent.com&redirect_uri=urn%3aietf%3awg%3aoauth%3a2.0%3aoob&response_type=code&scope=email%20https%3a%2f%2fwww.googleapis.com%2fauth%2fdocs.test%20https%3a%2f%2fwww.googleapis.com%2fauth%2fdrive%20https%3a%2f%2fwww.googleapis.com%2fauth%2fdrive.photos.readonly%20https%3a%2f%2fwww.googleapis.com%2fauth%2fpeopleapi.readonly\n",
            "\n",
            "Enter your authorization code:\n",
            "··········\n",
            "Mounted at /content/drive\n"
          ],
          "name": "stdout"
        }
      ]
    },
    {
      "cell_type": "markdown",
      "metadata": {
        "id": "2UOYik3x3vgX",
        "colab_type": "text"
      },
      "source": [
        "## Import Packages and Load Data\n",
        "\n"
      ]
    },
    {
      "cell_type": "code",
      "metadata": {
        "id": "kCb0UpKw7FX-",
        "colab_type": "code",
        "colab": {}
      },
      "source": [
        "import torch\n",
        "import torch.nn as nn\n",
        "# low level access to convolutions\n",
        "import torch.nn.functional as F\n",
        "import torch.optim as optim\n",
        "import matplotlib.pyplot as plt\n",
        "import numpy as np\n",
        "import pandas as pd\n",
        "import matplotlib.gridspec as gridspec\n",
        "from torchvision import datasets, transforms\n",
        "\n",
        "import setupPeaksClass as data"
      ],
      "execution_count": 0,
      "outputs": []
    },
    {
      "cell_type": "markdown",
      "metadata": {
        "id": "17pVN2m137xx",
        "colab_type": "text"
      },
      "source": [
        "\n",
        "## Generate Train and Test Data"
      ]
    },
    {
      "cell_type": "code",
      "metadata": {
        "id": "tBljNofXC7zE",
        "colab_type": "code",
        "colab": {}
      },
      "source": [
        "n = 2000;\n",
        "Y,C = data.getData(n);\n",
        "C_1D = C.argmax(1)\n",
        "\n",
        "Ytest,Ctest = data.getData(1000);\n",
        "Ctest_1D = Ctest.argmax(1)\n",
        "nf,nc = Y.shape[1], C.shape[1]"
      ],
      "execution_count": 0,
      "outputs": []
    },
    {
      "cell_type": "markdown",
      "metadata": {
        "id": "DojKCZ76Wo1o",
        "colab_type": "text"
      },
      "source": [
        "# Training the Networks under Initialization"
      ]
    },
    {
      "cell_type": "markdown",
      "metadata": {
        "id": "0jOh67yGFpM7",
        "colab_type": "text"
      },
      "source": [
        "## MLP Class Definition"
      ]
    },
    {
      "cell_type": "code",
      "metadata": {
        "id": "yAp_beuRUc5e",
        "colab_type": "code",
        "colab": {}
      },
      "source": [
        "class MLP(nn.Module):\n",
        "  def __init__(self, nf, m, nc, act):\n",
        "    \"\"\"\n",
        "    Inherit from nn.Module\n",
        "    \n",
        "    Parameters\n",
        "      nf -- Number of input features\n",
        "      m -- list of hidden node widths. len(m)=nLayers\n",
        "      nc -- number of output classes\n",
        "      act -- activation function\n",
        "    \"\"\"\n",
        "    super().__init__()\n",
        "    self.nHLayers = len(m)\n",
        "    self.nf = nf\n",
        "    self.nc = nc\n",
        "    self.act = act\n",
        "    # Z attribute to hold activation values\n",
        "    self.Z = []\n",
        "    self.K1 = nn.Linear(nf, m[0])\n",
        "    for i in range(1, len(m)):\n",
        "      setattr(self, \"K{}\".format(i+1), nn.Linear(m[i-1], m[i]))\n",
        "    self.W = nn.Linear(m[-1], nc)\n",
        "\n",
        "  def init_weights(self, type):\n",
        "    for K in self.children():\n",
        "      if type == \"uniform\":\n",
        "        bound = 1 / np.sqrt(K.weight.data.shape[0])\n",
        "        nn.init.uniform_(K.weight.data, -bound, bound)\n",
        "      elif type == \"xavier\":\n",
        "        nn.init.xavier_uniform_(K.weight.data)\n",
        "      elif type == \"normal\":\n",
        "        nn.init.normal_(K.weight.data)\n",
        "      nn.init.zeros_(K.bias.data)\n",
        "      \n",
        "  def forward(self, Y):\n",
        "    for i in range(self.nHLayers):\n",
        "      Y = self.act(getattr(self, \"K{}\".format(i+1))(Y))\n",
        "      self.Z.append(Y)\n",
        "    Y = self.W(Y)\n",
        "    return Y\n",
        "\n",
        "  def predict(self, Y):\n",
        "    pred = self.forward(Y)\n",
        "    return pred.argmax(1)\n",
        "    "
      ],
      "execution_count": 0,
      "outputs": []
    },
    {
      "cell_type": "markdown",
      "metadata": {
        "id": "SKM68LJlFn38",
        "colab_type": "text"
      },
      "source": [
        "## Take one step, extract activations and graidents"
      ]
    },
    {
      "cell_type": "code",
      "metadata": {
        "id": "dEmjk0b3iI9z",
        "colab_type": "code",
        "colab": {}
      },
      "source": [
        "# Architecture and loss function\n",
        "m = [10, 20, 50, 100]\n",
        "\n",
        "nLayer = len(m)\n",
        "normMLP = MLP(nf, m, nc, torch.tanh)\n",
        "unifMLP = MLP(nf, m, nc, torch.tanh)\n",
        "xavierMLP = MLP(nf, m, nc, torch.tanh)\n",
        "\n",
        "# Initialize weights\n",
        "normMLP.init_weights(\"normal\")\n",
        "unifMLP.init_weights(\"uniform\")\n",
        "xavierMLP.init_weights(\"xavier\")\n",
        "\n",
        "# Softmax cross entropy loss function\n",
        "loss_fn = nn.CrossEntropyLoss()"
      ],
      "execution_count": 0,
      "outputs": []
    },
    {
      "cell_type": "code",
      "metadata": {
        "id": "Fg0PKFgq7jdM",
        "colab_type": "code",
        "colab": {
          "base_uri": "https://localhost:8080/",
          "height": 34
        },
        "outputId": "15631a7e-3f6b-4ba1-8ad3-6e2a456203a5"
      },
      "source": [
        "def onestep(model, optimizer, Y, C, loss_fn):\n",
        "  \"\"\"One epoch for a model of class MLP\"\"\"\n",
        "  S = model.forward(Y)\n",
        "  loss = loss_fn(S, C)\n",
        "  optimizer.zero_grad()\n",
        "  loss.backward()\n",
        "  optimizer.step()\n",
        "  return loss.data\n",
        "\n",
        "# Optimizers - take one step\n",
        "normOpt = torch.optim.SGD(normMLP.parameters(), lr=.01)\n",
        "unifOpt = torch.optim.SGD(unifMLP.parameters(), lr=.01)\n",
        "xavierOpt = torch.optim.SGD(xavierMLP.parameters(), lr=.01)\n",
        "\n",
        "# Weird functional programming element to this\n",
        "onestep(normMLP, normOpt, Y, C_1D, loss_fn)\n",
        "onestep(unifMLP, unifOpt, Y, C_1D, loss_fn)\n",
        "onestep(xavierMLP, xavierOpt, Y, C_1D, loss_fn)"
      ],
      "execution_count": 88,
      "outputs": [
        {
          "output_type": "execute_result",
          "data": {
            "text/plain": [
              "tensor(1.5964)"
            ]
          },
          "metadata": {
            "tags": []
          },
          "execution_count": 88
        }
      ]
    },
    {
      "cell_type": "markdown",
      "metadata": {
        "id": "bIJbJE9wT75N",
        "colab_type": "text"
      },
      "source": [
        "## Function for plot of Activations and Gradients"
      ]
    },
    {
      "cell_type": "code",
      "metadata": {
        "id": "BFUHVSbGQT1G",
        "colab_type": "code",
        "colab": {}
      },
      "source": [
        "# Function for plotting activation and gradients\n",
        "def plotMLP(xavierMLP, normMLP, unifMLP, m):\n",
        "  # Plot of (nLayer x 2) histograms to show activations and gradients\n",
        "  fig, axs = plt.subplots(3, 2)\n",
        "  fig.set_figheight(10)\n",
        "  fig.set_figwidth(20)\n",
        "\n",
        "  act_iterable = zip(xavierMLP.Z, normMLP.Z, unifMLP.Z, range(1, 5))\n",
        "  grad_iterable = zip(xavierMLP.children(), normMLP.children(), \n",
        "                     unifMLP.children(), range(1, 5))\n",
        "  # Gradients\n",
        "  for X, N, U, k in act_iterable:\n",
        "    axs[0][0].hist(X.detach().numpy().flatten(), \n",
        "            density=True, bins=20, alpha=0.5, label=\"Layer {}\".format(k))\n",
        "    axs[1][0].hist(N.detach().numpy().flatten(), \n",
        "            density=True, bins=20, alpha=0.5, label=\"Layer {}\".format(k))\n",
        "    axs[2][0].hist(U.detach().numpy().flatten(), \n",
        "            density=True, bins=20, alpha=0.5, label=\"Layer {}\".format(k))\n",
        "  for X, N, U, k in grad_iterable:\n",
        "    axs[0][1].hist(X.weight.grad.numpy().flatten(), \n",
        "            density=True, bins=20, alpha=0.5, label=\"Layer {}\".format(k))\n",
        "    axs[1][1].hist(N.weight.grad.numpy().flatten(), \n",
        "            density=True, bins=20, alpha=0.5, label=\"Layer {}\".format(k))\n",
        "    axs[2][1].hist(U.weight.grad.numpy().flatten(), \n",
        "            density=True, bins=20, alpha=0.5, label=\"Layer {}\".format(k))\n",
        "  axs[2][1].set_xlim([-3, 3])\n",
        "  axs[1][1].set_xlim([-3, 3])\n",
        "  axs[0][0].set_title(\"Xavier Activation\")\n",
        "  axs[1][0].set_title(\"N(0,1) Activation\")\n",
        "  axs[2][0].set_title(\"Unif Activation\")\n",
        "  axs[0][1].set_title(\"Xavier Gradient\")\n",
        "  axs[1][1].set_title(\"N(0,1) Gradient\")\n",
        "  axs[2][1].set_title(\"Unif Gradient\")\n",
        "  plt.legend()\n",
        "  fig.tight_layout(pad=3.0)\n"
      ],
      "execution_count": 0,
      "outputs": []
    },
    {
      "cell_type": "markdown",
      "metadata": {
        "id": "d-PBN5B9gCWO",
        "colab_type": "text"
      },
      "source": [
        "## Activation and Gradient after one Epoch"
      ]
    },
    {
      "cell_type": "code",
      "metadata": {
        "id": "M3G6mJjDbI3D",
        "colab_type": "code",
        "outputId": "f1c27917-208c-46e1-ce18-0a7360eb9213",
        "colab": {
          "base_uri": "https://localhost:8080/",
          "height": 691
        }
      },
      "source": [
        "# Plot results from one epoch\n",
        "plotMLP(xavierMLP, normMLP, unifMLP, m)"
      ],
      "execution_count": 90,
      "outputs": [
        {
          "output_type": "display_data",
          "data": {
            "image/png": "[encoded data removed]",
            "text/plain": [
              "<Figure size 1440x720 with 6 Axes>"
            ]
          },
          "metadata": {
            "tags": []
          }
        }
      ]
    },
    {
      "cell_type": "markdown",
      "metadata": {
        "id": "Be3SuCLJ5jVK",
        "colab_type": "text"
      },
      "source": [
        "The above histograms show activation values and gradients of the weight matrices after one epoch (one forward and backward pass through the network). These results are a little unexpected.\n",
        "\n",
        "On the activation side, can see that in a forward pass, the activation values look like they start to saturate. This is expected behavior. The saturation increases from Layer 1 (first hidden layer closest to input) to Layer 4, which is also expected due to repeated matrix multiplication. In the normal case, the saturation occurs at the bounds resulting in activations of -1 and 1. In the uniform case, the values get smaller and smaller and concentrate at 0. It's worth pointing out that the distribution of normal gradients is much more spread out compared to the uniform gradients. This would suggest that training for the normal initialization model would proceed more smoothly, due to a wider variety of nonzero gradients from the start. \n",
        "\n",
        "When we look at the Xavier initialization weights however, we see that while the distribution of both activation and gradients is much more similar between layers than the standard initialization (which is expected from the paper), the gradient distribution is even more concentrated at 0 at all layers compared to the normal. The gradients range only from -0.10 to 0.15, compared to gradients of up to plus or minus 3 in the other initializations. Just from looking at this first epoch, based on the theory provided in the Xavier paper, the normal looks like it would be the easiest to train (and was not considered in the original paper!). \n",
        "\n",
        "One weird thing I'm noticing in the uniform and Xavier histograms is that the gradient layer labels seem to be flipped with what I would expect. The normal makes sense. Layer 4 has the most activation -1's and 1's, so the gradient plot shows Layer 4 has the most zero gradients. However, for Xavier and uniform, Layer 4 has the most activation 0's, and Layer 1 has the more -1 and 1's. Yet, the gradient plot shows Layer 4 has the most zero gradients, when an activation of 0 is where the tanh function has its greatest gradient. I double checked the code and still couldn't find an error. Thought this was surprising."
      ]
    },
    {
      "cell_type": "markdown",
      "metadata": {
        "id": "7Ren_MMX6ZR2",
        "colab_type": "text"
      },
      "source": [
        "## Training the Networks"
      ]
    },
    {
      "cell_type": "code",
      "metadata": {
        "id": "LpPRT5S76a2f",
        "colab_type": "code",
        "colab": {
          "base_uri": "https://localhost:8080/",
          "height": 1000
        },
        "outputId": "919bc096-0fca-4000-f45e-533ff20dbe09"
      },
      "source": [
        "numEpoch = 3000\n",
        "\n",
        "normLoss = torch.empty(numEpoch)\n",
        "unifLoss = torch.empty(numEpoch)\n",
        "xavierLoss = torch.empty(numEpoch)\n",
        "\n",
        "for i in range(numEpoch):\n",
        "  normLoss[i] = onestep(normMLP, normOpt, Y, C_1D, loss_fn)\n",
        "  unifLoss[i] = onestep(unifMLP, unifOpt, Y, C_1D, loss_fn)\n",
        "  xavierLoss[i] = onestep(xavierMLP, xavierOpt, Y, C_1D, loss_fn)\n",
        "  if i % 100 == 99:\n",
        "    print(\"Iteration {}\".format(i))\n",
        "    print(\"Normal Loss: {}\".format(normLoss[i]))\n",
        "    print(\"Uniform Loss: {}\".format(unifLoss[i]))\n",
        "    print(\"Xavier Loss: {}\".format(xavierLoss[i]))"
      ],
      "execution_count": 91,
      "outputs": [
        {
          "output_type": "stream",
          "text": [
            "Iteration 99\n",
            "Normal Loss: 0.6860971450805664\n",
            "Uniform Loss: 1.3675144910812378\n",
            "Xavier Loss: 1.195547103881836\n",
            "Iteration 199\n",
            "Normal Loss: 0.48435813188552856\n",
            "Uniform Loss: 1.2200134992599487\n",
            "Xavier Loss: 1.1230577230453491\n",
            "Iteration 299\n",
            "Normal Loss: 0.41716524958610535\n",
            "Uniform Loss: 1.1677452325820923\n",
            "Xavier Loss: 1.0866351127624512\n",
            "Iteration 399\n",
            "Normal Loss: 0.37350592017173767\n",
            "Uniform Loss: 1.1365374326705933\n",
            "Xavier Loss: 1.0604103803634644\n",
            "Iteration 499\n",
            "Normal Loss: 0.3395431935787201\n",
            "Uniform Loss: 1.113848090171814\n",
            "Xavier Loss: 1.0380454063415527\n",
            "Iteration 599\n",
            "Normal Loss: 0.314180463552475\n",
            "Uniform Loss: 1.0957045555114746\n",
            "Xavier Loss: 1.01738703250885\n",
            "Iteration 699\n",
            "Normal Loss: 0.2945176362991333\n",
            "Uniform Loss: 1.079982042312622\n",
            "Xavier Loss: 0.9975019693374634\n",
            "Iteration 799\n",
            "Normal Loss: 0.2781621515750885\n",
            "Uniform Loss: 1.0652128458023071\n",
            "Xavier Loss: 0.9779857993125916\n",
            "Iteration 899\n",
            "Normal Loss: 0.2639678120613098\n",
            "Uniform Loss: 1.0505446195602417\n",
            "Xavier Loss: 0.9587163925170898\n",
            "Iteration 999\n",
            "Normal Loss: 0.2514621913433075\n",
            "Uniform Loss: 1.0356144905090332\n",
            "Xavier Loss: 0.9397040009498596\n",
            "Iteration 1099\n",
            "Normal Loss: 0.24570247530937195\n",
            "Uniform Loss: 1.020346999168396\n",
            "Xavier Loss: 0.9210110902786255\n",
            "Iteration 1199\n",
            "Normal Loss: 0.23452237248420715\n",
            "Uniform Loss: 1.0048515796661377\n",
            "Xavier Loss: 0.9026872515678406\n",
            "Iteration 1299\n",
            "Normal Loss: 0.22513844072818756\n",
            "Uniform Loss: 0.989328920841217\n",
            "Xavier Loss: 0.8847442865371704\n",
            "Iteration 1399\n",
            "Normal Loss: 0.21654477715492249\n",
            "Uniform Loss: 0.9740127325057983\n",
            "Xavier Loss: 0.8671739101409912\n",
            "Iteration 1499\n",
            "Normal Loss: 0.20877566933631897\n",
            "Uniform Loss: 0.9591249227523804\n",
            "Xavier Loss: 0.8499515056610107\n",
            "Iteration 1599\n",
            "Normal Loss: 0.20160500705242157\n",
            "Uniform Loss: 0.9448410868644714\n",
            "Xavier Loss: 0.8330656290054321\n",
            "Iteration 1699\n",
            "Normal Loss: 0.19488567113876343\n",
            "Uniform Loss: 0.9312824606895447\n",
            "Xavier Loss: 0.8165490031242371\n",
            "Iteration 1799\n",
            "Normal Loss: 0.1885322481393814\n",
            "Uniform Loss: 0.9185265302658081\n",
            "Xavier Loss: 0.8004927039146423\n",
            "Iteration 1899\n",
            "Normal Loss: 0.18253327906131744\n",
            "Uniform Loss: 0.9066129326820374\n",
            "Xavier Loss: 0.785055935382843\n",
            "Iteration 1999\n",
            "Normal Loss: 0.1770201027393341\n",
            "Uniform Loss: 0.8955529928207397\n",
            "Xavier Loss: 0.7704024314880371\n",
            "Iteration 2099\n",
            "Normal Loss: 0.1720811128616333\n",
            "Uniform Loss: 0.885337769985199\n",
            "Xavier Loss: 0.7566373944282532\n",
            "Iteration 2199\n",
            "Normal Loss: 0.16768765449523926\n",
            "Uniform Loss: 0.8759379982948303\n",
            "Xavier Loss: 0.7437577843666077\n",
            "Iteration 2299\n",
            "Normal Loss: 0.16372020542621613\n",
            "Uniform Loss: 0.8673068284988403\n",
            "Xavier Loss: 0.7316669821739197\n",
            "Iteration 2399\n",
            "Normal Loss: 0.16005226969718933\n",
            "Uniform Loss: 0.8593944311141968\n",
            "Xavier Loss: 0.7202050685882568\n",
            "Iteration 2499\n",
            "Normal Loss: 0.1566072553396225\n",
            "Uniform Loss: 0.8521363735198975\n",
            "Xavier Loss: 0.7091916799545288\n",
            "Iteration 2599\n",
            "Normal Loss: 0.153360977768898\n",
            "Uniform Loss: 0.8454642295837402\n",
            "Xavier Loss: 0.6984549760818481\n",
            "Iteration 2699\n",
            "Normal Loss: 0.15030883252620697\n",
            "Uniform Loss: 0.8393142223358154\n",
            "Xavier Loss: 0.6878364682197571\n",
            "Iteration 2799\n",
            "Normal Loss: 0.1474466472864151\n",
            "Uniform Loss: 0.8336154222488403\n",
            "Xavier Loss: 0.6772067546844482\n",
            "Iteration 2899\n",
            "Normal Loss: 0.14476265013217926\n",
            "Uniform Loss: 0.8283071517944336\n",
            "Xavier Loss: 0.6664572954177856\n",
            "Iteration 2999\n",
            "Normal Loss: 0.14224381744861603\n",
            "Uniform Loss: 0.8233293294906616\n",
            "Xavier Loss: 0.6555083394050598\n"
          ],
          "name": "stdout"
        }
      ]
    },
    {
      "cell_type": "markdown",
      "metadata": {
        "id": "nEB8-Bn2Jhz7",
        "colab_type": "text"
      },
      "source": [
        "## Activation and Gradient Plot for the final iteration"
      ]
    },
    {
      "cell_type": "code",
      "metadata": {
        "id": "n9mPAM8dBA4e",
        "colab_type": "code",
        "colab": {
          "base_uri": "https://localhost:8080/",
          "height": 691
        },
        "outputId": "5ea36350-c938-40f7-dbdc-91f15ac51702"
      },
      "source": [
        "plotMLP(xavierMLP, normMLP, unifMLP, m)"
      ],
      "execution_count": 101,
      "outputs": [
        {
          "output_type": "display_data",
          "data": {
            "image/png": "[encoded data removed]",
            "text/plain": [
              "<Figure size 1440x720 with 6 Axes>"
            ]
          },
          "metadata": {
            "tags": []
          }
        }
      ]
    },
    {
      "cell_type": "code",
      "metadata": {
        "id": "EsbF1AOYBERX",
        "colab_type": "code",
        "colab": {
          "base_uri": "https://localhost:8080/",
          "height": 514
        },
        "outputId": "d3ee354a-aa2f-40a0-c517-16f92ff88aeb"
      },
      "source": [
        "fig, ax = plt.subplots()\n",
        "fig.set_figheight(7)\n",
        "fig.set_figwidth(10)\n",
        "ax.plot(normLoss, label=\"Normal\", linewidth=5, alpha=0.6)\n",
        "ax.plot(unifLoss, label=\"Uniform\", linewidth=5, alpha=0.6)\n",
        "ax.plot(xavierLoss, label=\"Xavier\", linewidth=5, alpha=0.6)\n",
        "ax.set_xlabel(\"Epoch\")\n",
        "ax.set_ylabel(\"Cross Entropy Loss\")\n",
        "ax.set_xlim([0, 100])\n",
        "ax.set_ylim([0, 10])\n",
        "plt.legend()\n",
        "fig.suptitle(\"Loss for each Initialization Scheme\", fontsize=20)\n",
        "fig.tight_layout()"
      ],
      "execution_count": 99,
      "outputs": [
        {
          "output_type": "display_data",
          "data": {
            "image/png": "[encoded data removed]",
            "text/plain": [
              "<Figure size 720x504 with 1 Axes>"
            ]
          },
          "metadata": {
            "tags": []
          }
        }
      ]
    },
    {
      "cell_type": "code",
      "metadata": {
        "id": "5lyLAgevDBFH",
        "colab_type": "code",
        "colab": {}
      },
      "source": [
        "def error(model, Y, C):\n",
        "  \"\"\"Compute accuracy of MLP model\"\"\"\n",
        "  return np.mean((model.predict(Y) == C).detach().numpy())\n",
        "normTrainAcc = error(normMLP, Y, C_1D)\n",
        "normTestAcc = error(normMLP, Ytest, Ctest_1D)\n",
        "unifTrainAcc = error(unifMLP, Y, C_1D)\n",
        "unifTestAcc = error(unifMLP, Ytest, Ctest_1D)\n",
        "xavierTrainAcc = error(xavierMLP, Y, C_1D)\n",
        "xavierTestAcc = error(xavierMLP, Ytest, Ctest_1D)"
      ],
      "execution_count": 0,
      "outputs": []
    },
    {
      "cell_type": "code",
      "metadata": {
        "id": "qhXNiefCISgs",
        "colab_type": "code",
        "colab": {
          "base_uri": "https://localhost:8080/",
          "height": 137
        },
        "outputId": "1fe29bbc-3553-4a83-d290-0567efa247cc"
      },
      "source": [
        "pd.DataFrame({\"train\":[normTrainAcc, unifTrainAcc, xavierTrainAcc], \n",
        "              \"test\":[normTestAcc, unifTestAcc, xavierTestAcc]}, \n",
        "             index=[\"Normal\", \"Uniform\", \"Xavier\"])"
      ],
      "execution_count": 98,
      "outputs": [
        {
          "output_type": "execute_result",
          "data": {
            "text/html": [
              "<div>\n",
              "<style scoped>\n",
              "    .dataframe tbody tr th:only-of-type {\n",
              "        vertical-align: middle;\n",
              "    }\n",
              "\n",
              "    .dataframe tbody tr th {\n",
              "        vertical-align: top;\n",
              "    }\n",
              "\n",
              "    .dataframe thead th {\n",
              "        text-align: right;\n",
              "    }\n",
              "</style>\n",
              "<table border=\"1\" class=\"dataframe\">\n",
              "  <thead>\n",
              "    <tr style=\"text-align: right;\">\n",
              "      <th></th>\n",
              "      <th>train</th>\n",
              "      <th>test</th>\n",
              "    </tr>\n",
              "  </thead>\n",
              "  <tbody>\n",
              "    <tr>\n",
              "      <th>Normal</th>\n",
              "      <td>0.9675</td>\n",
              "      <td>0.937</td>\n",
              "    </tr>\n",
              "    <tr>\n",
              "      <th>Uniform</th>\n",
              "      <td>0.7745</td>\n",
              "      <td>0.702</td>\n",
              "    </tr>\n",
              "    <tr>\n",
              "      <th>Xavier</th>\n",
              "      <td>0.7620</td>\n",
              "      <td>0.749</td>\n",
              "    </tr>\n",
              "  </tbody>\n",
              "</table>\n",
              "</div>"
            ],
            "text/plain": [
              "          train   test\n",
              "Normal   0.9675  0.937\n",
              "Uniform  0.7745  0.702\n",
              "Xavier   0.7620  0.749"
            ]
          },
          "metadata": {
            "tags": []
          },
          "execution_count": 98
        }
      ]
    },
    {
      "cell_type": "markdown",
      "metadata": {
        "id": "pF_S_-hyQELI",
        "colab_type": "text"
      },
      "source": [
        "After 3000 epochs with `optim`'s stochastic gradient descent method with learning rate 0.01, the standard normal initialization actually performed the best. Based on the loss plot, it does seem that the Xavier and uniform initial weight activation and gradients support what's seen here. The loss never decreased drastically, from the start they were already at a space where the gradient was close to 0, and got stuck. Meanwhile, the normal started off with higher loss, but much more room to learn and eventually had a loss less than the other two. \n",
        "\n",
        "More playing around with the optimization method could lead to different results, but this is an interesting case where Xavier initialization underperformed a common initialization method in the standard normal."
      ]
    }
  ]
}