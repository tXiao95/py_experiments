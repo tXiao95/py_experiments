{
 "cells": [
  {
   "cell_type": "markdown",
   "metadata": {},
   "source": [
    "# Jacobi Iteration Example (inspired by \"Painless Conjugate Gradient\")"
   ]
  },
  {
   "cell_type": "markdown",
   "metadata": {},
   "source": [
    "There are many iterative methods to solving the equation $Ax=b$. One such method is the Jacobi iteration. Suppose you have a matrix $A$. Then you can decompose $A$ as the sum of it's diagonal and off-diagonal elements and reach the following identity. "
   ]
  },
  {
   "cell_type": "markdown",
   "metadata": {},
   "source": [
    "\\begin{gather}\n",
    "Ax = b \\\\\n",
    "(D+E)x=b \\\\\n",
    "Dx+Ex=b \\\\\n",
    "Dx=-Ex+b \\\\\n",
    "x=-D^{-1}Ex+D^{-1}b \\\\\n",
    "x=Bx+z\n",
    "\\end{gather}"
   ]
  },
  {
   "cell_type": "markdown",
   "metadata": {},
   "source": [
    "From this, we could define a recurrence relation for an iterative method as follows. If we define an iterative step $x_{i}=x_{true}+e_{i}$ as the sum of the true solution and its error, we can gain further insight "
   ]
  },
  {
   "cell_type": "markdown",
   "metadata": {},
   "source": [
    "\\begin{gather}\n",
    "x_{i+1}=Bx_{i}+z \\\\ \n",
    "x_{true} + e_{i+1} = B(x_{true}+e_{i})+z \\\\\n",
    "(Bx_{true}+z)+e_{i+1}=Bx_{true}+Be_{i}+z \\\\ \n",
    "e_{i+1}=Be_{i}\n",
    "\\end{gather}"
   ]
  },
  {
   "cell_type": "markdown",
   "metadata": {},
   "source": [
    "What this iteration does is isolate the errors of each iterative step. Each step of the iteration, the matrix $B=-D^{-1}E$ acts on the previous\n",
    "error. If the goal is to get our error down towards zero, then as with all matrix iterations, we would want the spectral \n",
    "radius of $B$, or the magnitude of the largest eigenvalue $\\rho(B)=|\\lambda_1|\\leq 1$"
   ]
  },
  {
   "cell_type": "code",
   "execution_count": 69,
   "metadata": {},
   "outputs": [],
   "source": [
    "%matplotlib inline\n",
    "import matplotlib.pyplot as plt\n",
    "plt.style.use('seaborn-white')\n",
    "import numpy as np"
   ]
  },
  {
   "cell_type": "code",
   "execution_count": 129,
   "metadata": {},
   "outputs": [],
   "source": [
    "def Jacobi(A, B, X, maxIter):\n",
    "    \"\"\"\n",
    "    Jacobi iteration for strictly diagonally dominant matrices\n",
    "    \n",
    "    Parameters:\n",
    "        A -- data matrix (m x n)\n",
    "        X -- starting guesses (n x nrhs)\n",
    "        B -- right hand side (m x nrhs)\n",
    "        maxIter -- maximum number of steps\n",
    "\n",
    "    Returns:\n",
    "        X -- solutions (n x nrhs)\n",
    "        his -- convergence history. Value of loss function at each iteration (maxIter x 1)\n",
    "        grad -- gradient at each iteration (n x maxIter)\n",
    "        Xall -- iterates at every iteration (n x nrhs x maxIter)\n",
    "    \"\"\"\n",
    "    n = A.shape[1]\n",
    "    nrhs = B.shape[1]\n",
    "    \n",
    "    his = np.zeros(maxIter)\n",
    "    grad = np.zeros((n,maxIter))\n",
    "    Xall = np.zeros((n, nrhs, maxIter+1))\n",
    "    Xall[:,:,0] = X\n",
    "    \n",
    "    D = np.diag(A)\n",
    "    E = A - np.diag(D)\n",
    "    D_inv =  (1 / D)[np.newaxis].T\n",
    "\n",
    "    for i in np.arange(maxIter):\n",
    "        r = B - (A @ X)\n",
    "        gradient = A.T @ r\n",
    "        his[i] = np.linalg.norm(r)\n",
    "        grad[:,i] = gradient.T\n",
    "        X = (-D_inv * E) @ X + D_inv * B\n",
    "        for j in np.arange(nrhs):\n",
    "            Xall[:,j,i+1] = X[:,j]\n",
    "    \n",
    "    return X, his, grad, Xall"
   ]
  },
  {
   "cell_type": "code",
   "execution_count": 130,
   "metadata": {},
   "outputs": [],
   "source": [
    "def SDLS(A, B, X, maxIter):\n",
    "    \"\"\"\n",
    "    Steepest descent for least squares with exact line search.\n",
    "    \n",
    "    Parameters:\n",
    "        A -- data matrix (m x n)\n",
    "        X -- starting guesses (n x nrhs)\n",
    "        B -- right hand side (m x nrhs)\n",
    "        maxIter -- maximum number of steps\n",
    "\n",
    "    Returns:\n",
    "        X -- solutions (n x nrhs)\n",
    "        his -- convergence history. Value of loss function at each iteration (maxIter x 1)\n",
    "        grad -- gradient at each iteration (n x maxIter)\n",
    "        Xall -- iterates at every iteration (n x nrhs x maxIter)\n",
    "    \"\"\"\n",
    "    n = A.shape[1]\n",
    "    nrhs = B.shape[1]\n",
    "\n",
    "    his = np.zeros(maxIter)\n",
    "    grad = np.zeros((n, maxIter))\n",
    "    Xall = np.zeros((n, nrhs, maxIter+1))\n",
    "    Xall[:,:,0] = X\n",
    "    \n",
    "    for i in np.arange(maxIter):\n",
    "        r = B - (A @ X)\n",
    "        his[i] = np.linalg.norm(r)\n",
    "        d = A.T @ r\n",
    "        grad[:,i] = d.T\n",
    "        Ad = A @ d\n",
    "        alpha = (r.T @ Ad) / np.linalg.norm(Ad)**2\n",
    "        X = X + d @ alpha\n",
    "        for j in np.arange(nrhs):\n",
    "            Xall[:,j,i+1] = X[:,j]\n",
    "    \n",
    "    return X, his, grad, Xall"
   ]
  },
  {
   "cell_type": "markdown",
   "metadata": {},
   "source": [
    "We'll set up a problem with the following test matrices, and see what Jacobi converges to. \n",
    "\n",
    "\\begin{gather}\n",
    "A=\n",
    "\\begin{bmatrix}\n",
    "    3 & 2 \\\\\n",
    "    2 & 6\n",
    "\\end{bmatrix}\n",
    ", b=\n",
    "\\begin{bmatrix}\n",
    "    2 \\\\\n",
    "    -8\n",
    "\\end{bmatrix}\n",
    ", x_0=\n",
    "\\begin{bmatrix}\n",
    "    0 \\\\\n",
    "    0\n",
    "\\end{bmatrix}\n",
    "\\end{gather}"
   ]
  },
  {
   "cell_type": "code",
   "execution_count": 131,
   "metadata": {},
   "outputs": [],
   "source": [
    "A = np.array([[3,2],[2,6]])\n",
    "B = np.array([[2,-8]]).T\n",
    "X = np.zeros_like(B)\n",
    "\n",
    "X_J, his_J, grad_J, Xall_J = Jacobi(A, B, X, 30)\n",
    "X_SD, his_SD, grad_SD, Xall_SD = SDLS(A, B, X, 30)"
   ]
  },
  {
   "cell_type": "code",
   "execution_count": 132,
   "metadata": {},
   "outputs": [],
   "source": [
    "def _f(x, A, B):\n",
    "    x = x[np.newaxis].T\n",
    "    r = (A @ x) - B\n",
    "    return np.linalg.norm(r)\n",
    "\n",
    "def generate_contour(A, B, Xall, x1min, x1max, x2min, x2max, num_x1=100, num_x2=100):\n",
    "    x1 = np.linspace(x1min, x1max, num_x1)\n",
    "    x2 = np.linspace(x2min, x2max, num_x2)\n",
    "    X1_grid, X2_grid = np.meshgrid(x1, x2)\n",
    "    x = np.reshape(X1, num_x1*num_x2)\n",
    "    y = np.reshape(X2, num_x1*num_x2)\n",
    "    Z = np.reshape(np.apply_along_axis(func1d=_f, axis=0, arr=np.vstack((x,y)), A=A, B=B), (num_x1,num_x2))\n",
    "    X1_path = Xall[0][0]\n",
    "    X2_path = Xall[1][0]\n",
    "    return Z, X1_grid, X2_grid, X1_path, X2_path"
   ]
  },
  {
   "cell_type": "code",
   "execution_count": 135,
   "metadata": {},
   "outputs": [],
   "source": [
    "Z_SD, X1_SD_grid, X2_SD_grid, X1_SD_path, X2_SD_path = generate_contour(A, B, Xall_SD, -2, 3, -3, 1)\n",
    "Z_J, X1_J_grid, X2_J_grid, X1_J_path, X2_J_path = generate_contour(A, B, Xall_J, -2, 3, -3, 1)"
   ]
  },
  {
   "cell_type": "code",
   "execution_count": 136,
   "metadata": {},
   "outputs": [
    {
     "data": {
      "text/plain": [
       "Text(0, 0.5, 'X2')"
      ]
     },
     "execution_count": 136,
     "metadata": {},
     "output_type": "execute_result"
    },
    {
     "data": {
      "image/png": "[encoded data removed]",
      "text/plain": [
       "<Figure size 720x576 with 2 Axes>"
      ]
     },
     "metadata": {},
     "output_type": "display_data"
    }
   ],
   "source": [
    "plt.figure(figsize=(10,8))\n",
    "plt.suptitle(\"Jacobi Iterations vs. SDLS\", fontsize=24)\n",
    "plt.contourf(X1_J_grid, X2_J_grid, Z_J, 30, cmap='RdGy');\n",
    "plt.colorbar();\n",
    "plt.scatter(X1_J_path, X2_J_path, alpha=0.5)\n",
    "plt.plot(X1_J_path, X2_J_path)\n",
    "plt.scatter(X1_SD_path, X2_SD_path, alpha=0.5, c=\"g\")\n",
    "plt.plot(X1_SD_path, X2_SD_path, c=\"g\")\n",
    "plt.xlabel(\"X1\",fontsize=14)\n",
    "plt.ylabel(\"X2\",fontsize=14)"
   ]
  },
  {
   "cell_type": "markdown",
   "metadata": {},
   "source": [
    "1. What happens if $A$ is singular?\n",
    "2. What happens if $\\rho(A) \\geq 1$?\n",
    "3. What happens if $A$ is not diagonally dominant? "
   ]
  },
  {
   "cell_type": "code",
   "execution_count": 138,
   "metadata": {},
   "outputs": [
    {
     "data": {
      "text/plain": [
       "[<matplotlib.lines.Line2D at 0x7f6a14a67470>]"
      ]
     },
     "execution_count": 138,
     "metadata": {},
     "output_type": "execute_result"
    },
    {
     "data": {
      "image/png": "[encoded data removed]",
      "text/plain": [
       "<Figure size 432x288 with 1 Axes>"
      ]
     },
     "metadata": {},
     "output_type": "display_data"
    }
   ],
   "source": [
    "plt.plot(his_SD)\n",
    "plt.plot(his_J)"
   ]
  },
  {
   "cell_type": "code",
   "execution_count": 143,
   "metadata": {},
   "outputs": [
    {
     "data": {
      "text/plain": [
       "1.5072484693874052e-06"
      ]
     },
     "execution_count": 143,
     "metadata": {},
     "output_type": "execute_result"
    }
   ],
   "source": [
    "_f(X_SD, A, B)"
   ]
  },
  {
   "cell_type": "code",
   "execution_count": 144,
   "metadata": {},
   "outputs": [
    {
     "data": {
      "text/plain": [
       "1.3124014337385523e-09"
      ]
     },
     "execution_count": 144,
     "metadata": {},
     "output_type": "execute_result"
    }
   ],
   "source": [
    "_f(X_J, A, B)"
   ]
  }
 ],
 "metadata": {
  "kernelspec": {
   "display_name": "Python 3",
   "language": "python",
   "name": "python3"
  },
  "language_info": {
   "codemirror_mode": {
    "name": "ipython",
    "version": 3
   },
   "file_extension": ".py",
   "mimetype": "text/x-python",
   "name": "python",
   "nbconvert_exporter": "python",
   "pygments_lexer": "ipython3",
   "version": "3.6.8"
  }
 },
 "nbformat": 4,
 "nbformat_minor": 4
}
