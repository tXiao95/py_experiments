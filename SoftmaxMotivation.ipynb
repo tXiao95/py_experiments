{
 "cells": [
  {
   "cell_type": "markdown",
   "metadata": {},
   "source": [
    "# Why use Softmax?"
   ]
  },
  {
   "cell_type": "markdown",
   "metadata": {},
   "source": [
    "Difference between the reverse sigmoid and tanh functions for transforming function outputs into probability-esque quantities."
   ]
  },
  {
   "cell_type": "code",
   "execution_count": 14,
   "metadata": {},
   "outputs": [
    {
     "data": {
      "text/plain": [
       "<matplotlib.legend.Legend at 0x7f745658ae10>"
      ]
     },
     "execution_count": 14,
     "metadata": {},
     "output_type": "execute_result"
    },
    {
     "data": {
      "image/png": "[encoded data removed]",
      "text/plain": [
       "<Figure size 432x288 with 1 Axes>"
      ]
     },
     "metadata": {
      "needs_background": "light"
     },
     "output_type": "display_data"
    }
   ],
   "source": [
    "import numpy as np\n",
    "import matplotlib.pyplot as plt\n",
    "\n",
    "x = np.arange(-10,10,.1)\n",
    "def reverse_sigmoid(x):\n",
    "    return 1 / (1 + np.exp(-x))\n",
    "\n",
    "plt.plot(x, reverse_sigmoid(x), label = \"Reverse sigmoid\")\n",
    "plt.plot(x, np.tanh(x), label = \"Tanh\")\n",
    "plt.xlabel(\"$\\textbf{w^Ty}$\")\n",
    "plt.ylabel(\"$f(y,w)$\")\n",
    "plt.legend()"
   ]
  },
  {
   "cell_type": "markdown",
   "metadata": {},
   "source": [
    "Difference between the normal standardization, softmax, and hardmax functions. Softmax function is a generalization of the reverse sigmoid function. Below is the case for two classes, as well as more than two. The bottom makes use of element-wise division and exponentiation"
   ]
  },
  {
   "cell_type": "markdown",
   "metadata": {},
   "source": [
    "\\begin{gather}\n",
    "f(\\textbf{w},\\textbf{y})=\\frac{1}{1+e^{-\\textbf{w}^\\top\\textbf{y}}} \\\\\\\\\n",
    "f(\\textbf{W},\\textbf{y})=\\frac{\\exp(\\textbf{Wy})}{\\textbf{e}^\\top\\exp(\\textbf{Wy})}\n",
    "\\end{gather}"
   ]
  },
  {
   "cell_type": "code",
   "execution_count": 47,
   "metadata": {},
   "outputs": [],
   "source": [
    "def standard(x):\n",
    "    return x / np.sum(x)\n",
    "\n",
    "def softmax(x):\n",
    "    return np.exp(x) / sum(np.exp(x))\n",
    "\n",
    "def hardmax(x):\n",
    "    a = np.zeros(len(x))\n",
    "    a[np.argmax(x)] = 1\n",
    "    return a"
   ]
  },
  {
   "cell_type": "code",
   "execution_count": 48,
   "metadata": {
    "scrolled": true
   },
   "outputs": [
    {
     "name": "stdout",
     "output_type": "stream",
     "text": [
      "Baseline: Output of functions for [1 2]\n",
      "Standard normalization: [0.33333333 0.66666667]\n",
      "Softmax: [0.26894142 0.73105858]\n",
      "Hardmax: [0. 1.]\n",
      "\n",
      "Same Difference: Output of functions for [100 101]\n",
      "Standard normalization: [0.49751244 0.50248756]\n",
      "Softmax: [0.26894142 0.73105858]\n",
      "Hardmax: [0. 1.]\n",
      "\n",
      "Same Proportion: Output of functions for [3 6]\n",
      "Standard normalization: [0.33333333 0.66666667]\n",
      "Softmax: [0.04742587 0.95257413]\n",
      "Hardmax: [0. 1.]\n"
     ]
    }
   ],
   "source": [
    "test = np.array([1, 2])\n",
    "test2 = np.array([100, 101])\n",
    "test3 = np.array([3, 6])\n",
    "\n",
    "print(\"Baseline: Output of functions for {}\".format(test))\n",
    "print(\"Standard normalization: {}\".format(standard(test)))\n",
    "print(\"Softmax: {}\".format(softmax(test)))\n",
    "print(\"Hardmax: {}\".format(hardmax(test)))\n",
    "\n",
    "print(\"\\nSame Difference: Output of functions for {}\".format(test2))\n",
    "print(\"Standard normalization: {}\".format(standard(test2)))\n",
    "print(\"Softmax: {}\".format(softmax(test2)))\n",
    "print(\"Hardmax: {}\".format(hardmax(test2)))\n",
    "\n",
    "print(\"\\nSame Proportion: Output of functions for {}\".format(test3))\n",
    "print(\"Standard normalization: {}\".format(standard(test3)))\n",
    "print(\"Softmax: {}\".format(softmax(test3)))\n",
    "print(\"Hardmax: {}\".format(hardmax(test3)))"
   ]
  },
  {
   "cell_type": "markdown",
   "metadata": {},
   "source": [
    "Standard normalisation values are the same if the proportion between the original values are maintained.\n",
    "Softmax values are the same for vectors where all the absolute differences between the original values are maintained. Hardmax values are the same as long as the maximum index remains unchanged, though it is not differentiable.\n",
    "\n",
    "Think in the context of neural networks. Say my predictive function $f$ outputs a score of 1 for class A and 2 for class B. Let's say, based on the way I scaled the output of this function, 1 and 2 are quite small values. Based on the probability distribution generated by standard normalization, class A would be predicted with probability 0.33 and class B with probability 0.67. By softmax, it would be 0.26 for class A and 0.73 for class B. Somewhat similar.\n",
    "\n",
    "Now let's say the function outputs 100 for class A and 101 for class B. So in our scale, 100 and 101 are really large and strong values. However, the absolute difference. Now the ratio of class B to class A changed from 2 to close to 1. But the absolute difference remains the same, at 1. Turns out the softmax function output remains the same but the normalization becomes less certain than before. I think it's debatable which one of these functions gives the desirable property. \n",
    "\n",
    "The key difference is when the ratio is constant, but the absolute difference in scores changes. At higher values, the softmax function becomes much more certain of the higher value and much closer to approximating the hardmax function than standard normalization. For scores 3 and 6, softmax leaps for 0.73 to 0.95 for class B. I think in most applications this is desirable. The proportion between scores is not what makes me confident about a classification, but the absolute values should play a key role in that decision as well. 1 and 2 does not have as much confidence as 100 to 200, even though standard normalisation would suggest otherwise. "
   ]
  }
 ],
 "metadata": {
  "kernelspec": {
   "display_name": "Python 3",
   "language": "python",
   "name": "python3"
  },
  "language_info": {
   "codemirror_mode": {
    "name": "ipython",
    "version": 3
   },
   "file_extension": ".py",
   "mimetype": "text/x-python",
   "name": "python",
   "nbconvert_exporter": "python",
   "pygments_lexer": "ipython3",
   "version": "3.6.8"
  }
 },
 "nbformat": 4,
 "nbformat_minor": 4
}
